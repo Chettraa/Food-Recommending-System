{
 "cells": [
  {
   "cell_type": "markdown",
   "metadata": {},
   "source": [
    "# Food Recommedation System"
   ]
  },
  {
   "cell_type": "code",
   "execution_count": 31,
   "metadata": {},
   "outputs": [],
   "source": [
    "# Libraries\n",
    "import pandas as pd\n",
    "import numpy as np \n",
    "import matplotlib.pyplot as plt\n",
    "\n"
   ]
  },
  {
   "cell_type": "code",
   "execution_count": 32,
   "metadata": {},
   "outputs": [],
   "source": [
    "# Load the data\n",
    "\n",
    "data = pd.read_csv('food_survey.csv')"
   ]
  },
  {
   "cell_type": "markdown",
   "metadata": {},
   "source": [
    "# Data Preprocessing"
   ]
  },
  {
   "cell_type": "code",
   "execution_count": 33,
   "metadata": {},
   "outputs": [
    {
     "data": {
      "text/html": [
       "<div>\n",
       "<style scoped>\n",
       "    .dataframe tbody tr th:only-of-type {\n",
       "        vertical-align: middle;\n",
       "    }\n",
       "\n",
       "    .dataframe tbody tr th {\n",
       "        vertical-align: top;\n",
       "    }\n",
       "\n",
       "    .dataframe thead th {\n",
       "        text-align: right;\n",
       "    }\n",
       "</style>\n",
       "<table border=\"1\" class=\"dataframe\">\n",
       "  <thead>\n",
       "    <tr style=\"text-align: right;\">\n",
       "      <th></th>\n",
       "      <th>Food_ID</th>\n",
       "      <th>Name</th>\n",
       "      <th>C_Type</th>\n",
       "      <th>Veg_Non</th>\n",
       "      <th>Describe</th>\n",
       "    </tr>\n",
       "  </thead>\n",
       "  <tbody>\n",
       "    <tr>\n",
       "      <th>0</th>\n",
       "      <td>1</td>\n",
       "      <td>summer squash salad</td>\n",
       "      <td>Healthy Food</td>\n",
       "      <td>veg</td>\n",
       "      <td>white balsamic vinegar, lemon juice, lemon rin...</td>\n",
       "    </tr>\n",
       "    <tr>\n",
       "      <th>1</th>\n",
       "      <td>2</td>\n",
       "      <td>chicken minced salad</td>\n",
       "      <td>Healthy Food</td>\n",
       "      <td>non-veg</td>\n",
       "      <td>olive oil, chicken mince, garlic (minced), oni...</td>\n",
       "    </tr>\n",
       "    <tr>\n",
       "      <th>2</th>\n",
       "      <td>3</td>\n",
       "      <td>sweet chilli almonds</td>\n",
       "      <td>Snack</td>\n",
       "      <td>veg</td>\n",
       "      <td>almonds whole, egg white, curry leaves, salt, ...</td>\n",
       "    </tr>\n",
       "    <tr>\n",
       "      <th>3</th>\n",
       "      <td>4</td>\n",
       "      <td>tricolour salad</td>\n",
       "      <td>Healthy Food</td>\n",
       "      <td>veg</td>\n",
       "      <td>vinegar, honey/sugar, soy sauce, salt, garlic ...</td>\n",
       "    </tr>\n",
       "    <tr>\n",
       "      <th>4</th>\n",
       "      <td>5</td>\n",
       "      <td>christmas cake</td>\n",
       "      <td>Dessert</td>\n",
       "      <td>veg</td>\n",
       "      <td>christmas dry fruits (pre-soaked), orange zest...</td>\n",
       "    </tr>\n",
       "  </tbody>\n",
       "</table>\n",
       "</div>"
      ],
      "text/plain": [
       "   Food_ID                  Name        C_Type  Veg_Non  \\\n",
       "0        1   summer squash salad  Healthy Food      veg   \n",
       "1        2  chicken minced salad  Healthy Food  non-veg   \n",
       "2        3  sweet chilli almonds         Snack      veg   \n",
       "3        4       tricolour salad  Healthy Food      veg   \n",
       "4        5        christmas cake       Dessert      veg   \n",
       "\n",
       "                                            Describe  \n",
       "0  white balsamic vinegar, lemon juice, lemon rin...  \n",
       "1  olive oil, chicken mince, garlic (minced), oni...  \n",
       "2  almonds whole, egg white, curry leaves, salt, ...  \n",
       "3  vinegar, honey/sugar, soy sauce, salt, garlic ...  \n",
       "4  christmas dry fruits (pre-soaked), orange zest...  "
      ]
     },
     "execution_count": 33,
     "metadata": {},
     "output_type": "execute_result"
    }
   ],
   "source": [
    "data.head()"
   ]
  },
  {
   "cell_type": "code",
   "execution_count": 34,
   "metadata": {},
   "outputs": [
    {
     "name": "stdout",
     "output_type": "stream",
     "text": [
      "C_Type\n",
      "Indian          88\n",
      "Healthy Food    58\n",
      "Dessert         53\n",
      "Chinese         27\n",
      "Italian         25\n",
      "Snack           23\n",
      "Thai            23\n",
      "French          22\n",
      "Mexican         21\n",
      "Japanese        18\n",
      "Beverage        11\n",
      "Nepalese        11\n",
      "Korean           9\n",
      "Vietnames        9\n",
      " Korean          1\n",
      "Spanish          1\n",
      "Name: count, dtype: int64\n"
     ]
    }
   ],
   "source": [
    "food_type_counts = data['C_Type'].value_counts()\n",
    "print(food_type_counts)"
   ]
  },
  {
   "cell_type": "code",
   "execution_count": 35,
   "metadata": {},
   "outputs": [
    {
     "name": "stdout",
     "output_type": "stream",
     "text": [
      "Veg_Non\n",
      "veg        238\n",
      "non-veg    162\n",
      "Name: count, dtype: int64\n"
     ]
    }
   ],
   "source": [
    "veg_non_counts = data['Veg_Non'].value_counts()\n",
    "print(veg_non_counts)"
   ]
  },
  {
   "cell_type": "code",
   "execution_count": 36,
   "metadata": {},
   "outputs": [
    {
     "name": "stdout",
     "output_type": "stream",
     "text": [
      "<class 'pandas.core.frame.DataFrame'>\n",
      "Index: 3981 entries, 0 to 399\n",
      "Data columns (total 5 columns):\n",
      " #   Column      Non-Null Count  Dtype \n",
      "---  ------      --------------  ----- \n",
      " 0   Food_ID     3981 non-null   int64 \n",
      " 1   Name        3981 non-null   object\n",
      " 2   C_Type      3981 non-null   object\n",
      " 3   Veg_Non     3981 non-null   object\n",
      " 4   Ingredient  3981 non-null   object\n",
      "dtypes: int64(1), object(4)\n",
      "memory usage: 186.6+ KB\n"
     ]
    }
   ],
   "source": [
    "# Split the 'Describe' column by ', ' and explode the list into separate rows\n",
    "ingredients_df = data.assign(Ingredient=data['Describe'].str.split(', ')).explode('Ingredient')\n",
    "\n",
    "# Drop the original 'Describe' column as it's no longer needed\n",
    "ingredients_df = ingredients_df.drop(columns=['Describe'])\n",
    "\n",
    "ingredients_df.info()"
   ]
  },
  {
   "cell_type": "code",
   "execution_count": 37,
   "metadata": {},
   "outputs": [
    {
     "name": "stdout",
     "output_type": "stream",
     "text": [
      "Food_ID     0\n",
      "Name        0\n",
      "C_Type      0\n",
      "Veg_Non     0\n",
      "Describe    0\n",
      "dtype: int64\n"
     ]
    }
   ],
   "source": [
    "missing_values_count = data.isna().sum()\n",
    "print(missing_values_count)"
   ]
  },
  {
   "cell_type": "code",
   "execution_count": 38,
   "metadata": {},
   "outputs": [
    {
     "name": "stdout",
     "output_type": "stream",
     "text": [
      "There are 400 unique recipes in the data.\n"
     ]
    }
   ],
   "source": [
    "num_recipes = data['Name'].nunique()\n",
    "print(f'There are {num_recipes} unique recipes in the data.')"
   ]
  },
  {
   "cell_type": "code",
   "execution_count": 39,
   "metadata": {},
   "outputs": [
    {
     "name": "stdout",
     "output_type": "stream",
     "text": [
      "The minimum number of ingredients in a single dish is 1.\n",
      "The maximum number of ingredients in a single dish is 34.\n"
     ]
    }
   ],
   "source": [
    "# Group by Food_ID and count the number of ingredients for each dish\n",
    "ingredient_counts_per_dish = ingredients_df.groupby('Food_ID').size()\n",
    "\n",
    "# Find the minimum and maximum number of ingredients in a single dish\n",
    "min_ingredients = ingredient_counts_per_dish.min()\n",
    "max_ingredients = ingredient_counts_per_dish.max()\n",
    "\n",
    "print(f'The minimum number of ingredients in a single dish is {min_ingredients}.')\n",
    "print(f'The maximum number of ingredients in a single dish is {max_ingredients}.')"
   ]
  },
  {
   "cell_type": "code",
   "execution_count": 40,
   "metadata": {},
   "outputs": [
    {
     "name": "stdout",
     "output_type": "stream",
     "text": [
      "Minimum number of ingredients per dish: 1.0\n",
      "First quartile (Q1) of ingredients per dish: 6.0\n",
      "Median (Q2) number of ingredients per dish: 9.0\n",
      "Third quartile (Q3) of ingredients per dish: 13.0\n",
      "Maximum number of ingredients per dish: 34.0\n"
     ]
    }
   ],
   "source": [
    "# Get the descriptive statistics for the number of ingredients per dish\n",
    "ingredient_stats = ingredient_counts_per_dish.describe()\n",
    "\n",
    "# Extract the required statistics\n",
    "min_ingredients = ingredient_stats['min']\n",
    "q1_ingredients = ingredient_stats['25%']\n",
    "median_ingredients = ingredient_stats['50%']\n",
    "q3_ingredients = ingredient_stats['75%']\n",
    "max_ingredients = ingredient_stats['max']\n",
    "\n",
    "print(f'Minimum number of ingredients per dish: {min_ingredients}')\n",
    "print(f'First quartile (Q1) of ingredients per dish: {q1_ingredients}')\n",
    "print(f'Median (Q2) number of ingredients per dish: {median_ingredients}')\n",
    "print(f'Third quartile (Q3) of ingredients per dish: {q3_ingredients}')\n",
    "print(f'Maximum number of ingredients per dish: {max_ingredients}')"
   ]
  },
  {
   "cell_type": "code",
   "execution_count": 41,
   "metadata": {},
   "outputs": [
    {
     "data": {
      "image/png": "[encoded data removed]",
      "text/plain": [
       "<Figure size 1000x1000 with 1 Axes>"
      ]
     },
     "metadata": {},
     "output_type": "display_data"
    },
    {
     "data": {
      "image/png": "[encoded data removed]",
      "text/plain": [
       "<Figure size 800x800 with 1 Axes>"
      ]
     },
     "metadata": {},
     "output_type": "display_data"
    },
    {
     "data": {
      "image/png": "[encoded data removed]",
      "text/plain": [
       "<Figure size 1200x600 with 1 Axes>"
      ]
     },
     "metadata": {},
     "output_type": "display_data"
    }
   ],
   "source": [
    "# Distribution of Food Types\n",
    "food_type_counts.plot(kind='pie', autopct='%1.1f%%', figsize=(10, 10), title='Distribution of Food Types')\n",
    "plt.ylabel('')\n",
    "plt.show()\n",
    "\n",
    "# Distribution of Veg vs Non-Veg Dishes\n",
    "veg_non_counts.plot(kind='pie', autopct='%1.1f%%', figsize=(8, 8), title='Distribution of Veg vs Non-Veg Dishes')\n",
    "plt.ylabel('')\n",
    "plt.show()\n",
    "\n",
    "# Convert all ingredients to lowercase\n",
    "ingredients_df['Ingredient'] = ingredients_df['Ingredient'].str.lower()\n",
    "\n",
    "# Top 20 Ingredients\n",
    "ingredient_counts = ingredients_df['Ingredient'].value_counts()\n",
    "ingredient_counts.head(20).plot(kind='bar', figsize=(12, 6), title='Top 20 Ingredients')\n",
    "plt.xlabel('Ingredient')\n",
    "plt.ylabel('Count')\n",
    "plt.show()"
   ]
  },
  {
   "cell_type": "code",
   "execution_count": 42,
   "metadata": {},
   "outputs": [],
   "source": [
    "ratings = pd.read_csv('ratings.csv')"
   ]
  },
  {
   "cell_type": "code",
   "execution_count": 43,
   "metadata": {},
   "outputs": [
    {
     "data": {
      "text/html": [
       "<div>\n",
       "<style scoped>\n",
       "    .dataframe tbody tr th:only-of-type {\n",
       "        vertical-align: middle;\n",
       "    }\n",
       "\n",
       "    .dataframe tbody tr th {\n",
       "        vertical-align: top;\n",
       "    }\n",
       "\n",
       "    .dataframe thead th {\n",
       "        text-align: right;\n",
       "    }\n",
       "</style>\n",
       "<table border=\"1\" class=\"dataframe\">\n",
       "  <thead>\n",
       "    <tr style=\"text-align: right;\">\n",
       "      <th></th>\n",
       "      <th>User_ID</th>\n",
       "      <th>Food_ID</th>\n",
       "      <th>Rating</th>\n",
       "    </tr>\n",
       "  </thead>\n",
       "  <tbody>\n",
       "    <tr>\n",
       "      <th>0</th>\n",
       "      <td>1</td>\n",
       "      <td>88</td>\n",
       "      <td>4.0</td>\n",
       "    </tr>\n",
       "    <tr>\n",
       "      <th>1</th>\n",
       "      <td>1</td>\n",
       "      <td>46</td>\n",
       "      <td>3.0</td>\n",
       "    </tr>\n",
       "    <tr>\n",
       "      <th>2</th>\n",
       "      <td>1</td>\n",
       "      <td>24</td>\n",
       "      <td>5.0</td>\n",
       "    </tr>\n",
       "    <tr>\n",
       "      <th>3</th>\n",
       "      <td>1</td>\n",
       "      <td>25</td>\n",
       "      <td>4.0</td>\n",
       "    </tr>\n",
       "    <tr>\n",
       "      <th>4</th>\n",
       "      <td>2</td>\n",
       "      <td>49</td>\n",
       "      <td>1.0</td>\n",
       "    </tr>\n",
       "  </tbody>\n",
       "</table>\n",
       "</div>"
      ],
      "text/plain": [
       "   User_ID  Food_ID  Rating\n",
       "0        1       88     4.0\n",
       "1        1       46     3.0\n",
       "2        1       24     5.0\n",
       "3        1       25     4.0\n",
       "4        2       49     1.0"
      ]
     },
     "execution_count": 43,
     "metadata": {},
     "output_type": "execute_result"
    }
   ],
   "source": [
    "# Drop rows with missing values\n",
    "ratings = ratings.dropna()\n",
    "\n",
    "# Convert User_ID and Food_ID to integers\n",
    "ratings['User_ID'] = ratings['User_ID'].astype(int)\n",
    "ratings['Food_ID'] = ratings['Food_ID'].astype(int)\n",
    "\n",
    "# Ensure Rating is a float\n",
    "ratings['Rating'] = ratings['Rating'].astype(float)\n",
    "\n",
    "# Display the first few rows of the preprocessed ratings data\n",
    "ratings.head()"
   ]
  },
  {
   "cell_type": "code",
   "execution_count": 44,
   "metadata": {},
   "outputs": [
    {
     "name": "stdout",
     "output_type": "stream",
     "text": [
      "<class 'pandas.core.frame.DataFrame'>\n",
      "Index: 511 entries, 0 to 510\n",
      "Data columns (total 3 columns):\n",
      " #   Column   Non-Null Count  Dtype  \n",
      "---  ------   --------------  -----  \n",
      " 0   User_ID  511 non-null    int64  \n",
      " 1   Food_ID  511 non-null    int64  \n",
      " 2   Rating   511 non-null    float64\n",
      "dtypes: float64(1), int64(2)\n",
      "memory usage: 16.0 KB\n"
     ]
    }
   ],
   "source": [
    "ratings.info()"
   ]
  },
  {
   "cell_type": "code",
   "execution_count": 45,
   "metadata": {},
   "outputs": [
    {
     "name": "stdout",
     "output_type": "stream",
     "text": [
      "Food_ID     0\n",
      "Name        0\n",
      "C_Type      0\n",
      "Veg_Non     0\n",
      "Describe    0\n",
      "dtype: int64\n"
     ]
    }
   ],
   "source": [
    "missing_values_count = data.isna().sum()\n",
    "print(missing_values_count)"
   ]
  },
  {
   "cell_type": "code",
   "execution_count": 46,
   "metadata": {},
   "outputs": [
    {
     "data": {
      "text/plain": [
       "count    511.000000\n",
       "mean       5.438356\n",
       "std        2.866236\n",
       "min        1.000000\n",
       "25%        3.000000\n",
       "50%        5.000000\n",
       "75%        8.000000\n",
       "max       10.000000\n",
       "Name: Rating, dtype: float64"
      ]
     },
     "execution_count": 46,
     "metadata": {},
     "output_type": "execute_result"
    }
   ],
   "source": [
    "ratings['Rating'].describe()"
   ]
  },
  {
   "cell_type": "code",
   "execution_count": null,
   "metadata": {},
   "outputs": [],
   "source": []
  },
  {
   "cell_type": "markdown",
   "metadata": {},
   "source": [
    "Colaborate Filtter"
   ]
  },
  {
   "cell_type": "code",
   "execution_count": 47,
   "metadata": {},
   "outputs": [],
   "source": [
    "text = data['Name'].str.lower()"
   ]
  },
  {
   "cell_type": "code",
   "execution_count": 48,
   "metadata": {},
   "outputs": [],
   "source": [
    "text = text.astype(str).tolist()"
   ]
  },
  {
   "cell_type": "code",
   "execution_count": 49,
   "metadata": {},
   "outputs": [
    {
     "data": {
      "text/plain": [
       "['summer squash salad',\n",
       " 'chicken minced salad',\n",
       " 'sweet chilli almonds',\n",
       " 'tricolour salad',\n",
       " 'christmas cake',\n",
       " 'japanese curry arancini with barley salsa',\n",
       " 'chocolate nero cookies',\n",
       " 'lamb and chargrilled bell pepper soup',\n",
       " 'cream of almond soup',\n",
       " 'broccoli and almond soup',\n",
       " 'coconut lime quinoa salad',\n",
       " 'lemon honey glazed sous vide corn on the cob',\n",
       " 'watermelon and strawberry smoothie',\n",
       " 'peach, raspberry and nuts smoothie',\n",
       " 'almond and cranberry poha',\n",
       " 'almond and raw banana galawat',\n",
       " 'baked namakpara with roasted almond dip',\n",
       " 'grilled almond barfi',\n",
       " 'baked shankarpali ',\n",
       " 'baked multigrain murukku',\n",
       " 'apple rabdi',\n",
       " 'baked namak para',\n",
       " 'dates and nuts ladoo',\n",
       " 'green lentil dessert fudge',\n",
       " 'cashew nut cookies',\n",
       " 'almond pearls',\n",
       " 'hawaiin papaya salad',\n",
       " 'vegetable som tam salad',\n",
       " 'spinach and feta crepes',\n",
       " 'couscous with ratatouille - tangy tomato sauce',\n",
       " 'baked almond kofta',\n",
       " 'almond and amaranth ladoo',\n",
       " 'moong dal kiwi coconut soup',\n",
       " 'mixed berry & banana smoothie',\n",
       " 'banana walnut smoothie',\n",
       " 'spicy watermelon soup',\n",
       " 'red rice poha',\n",
       " 'mixed salad with lotus root',\n",
       " 'sweet potato and quinoa bowl',\n",
       " 'corn and raw mango salad',\n",
       " 'khichdi',\n",
       " 'sugar free modak',\n",
       " 'beetroot modak',\n",
       " 'andhra pan fried pomfret',\n",
       " 'ghee roast chicken dosa quesadilla',\n",
       " 'steam bunny chicken bao',\n",
       " 'meat lovers pizza',\n",
       " 'almond and chicken momos (without shell)',\n",
       " 'christmas tree pizza',\n",
       " 'french pork chop',\n",
       " 'christmas chocolate fudge cookies',\n",
       " 'chicken parmigiana with tomato sauce',\n",
       " 'chocolate appe',\n",
       " 'sous-vide salmon tikka',\n",
       " 'filo pizza',\n",
       " 'chocolate samosa',\n",
       " 'fish with jamun sauce',\n",
       " 'dahi lasooni chicken',\n",
       " 'pesto fish kebabs',\n",
       " 'caramelized sesame smoked almonds',\n",
       " 'crunchy vegetable dal sattu croquettes',\n",
       " 'active charcoal modak',\n",
       " 'flax seed and beetroot modak',\n",
       " 'chocolate prunes gujiyas',\n",
       " 'almond  white chocolate gujiya',\n",
       " 'betel nut popsicle',\n",
       " 'clotted cottage cheese croquettes',\n",
       " 'gajar tart',\n",
       " 'banana and maple ice lollies',\n",
       " 'shepherds salad (tamatar-kheera salaad)',\n",
       " 'carrot ginger soup',\n",
       " 'dark night',\n",
       " 'hot chocolate',\n",
       " 'slow cooked spiced sangria',\n",
       " 'detox haldi tea',\n",
       " 'holi special ice tea thandai',\n",
       " 'grilled lemon margarita',\n",
       " 'spanish artichoke and spinach dip',\n",
       " 'beetroot and green apple soup',\n",
       " 'baba budan no. 7',\n",
       " 'fruit infused tea',\n",
       " 'soya milk',\n",
       " 'spiced coffee',\n",
       " 'filter coffee',\n",
       " 'garlic and pinenut soup with burnt butter essence',\n",
       " 'roast turkey with cranberry sauce',\n",
       " 'roasted spring chicken with root veggies',\n",
       " 'peri peri chicken satay',\n",
       " 'chicken popcorn',\n",
       " 'half roast chicken',\n",
       " 'chicken biryani',\n",
       " 'chicken farcha',\n",
       " 'buldak (hot and spicy chicken)',\n",
       " 'chicken sukka',\n",
       " 'steamed chicken roulade',\n",
       " 'methi chicken masala',\n",
       " 'restaurant style fried chicken',\n",
       " 'chicken potli',\n",
       " 'spicy chicken masala',\n",
       " 'spicy chicken curry',\n",
       " 'crispy herb chicken',\n",
       " 'dahi chicken',\n",
       " 'amritsari chicken masala',\n",
       " 'chilli chicken',\n",
       " 'chicken tenders',\n",
       " 'chicken nimbu dhaniya shorba',\n",
       " 'garlic soya chicken',\n",
       " 'cauliflower and chicken biryani',\n",
       " 'chicken quinoa biryani',\n",
       " 'chicken and mushroom lasagna',\n",
       " 'plum and cherry roasted chicken',\n",
       " 'chicken roulade',\n",
       " 'sticky rum chicken wings',\n",
       " 'chicken dragon',\n",
       " 'chicken palwal',\n",
       " 'pan seared thigh of chicken',\n",
       " 'chicken in mahalak sauce',\n",
       " 'grilled kasundi honey chicken with sweet potato mash',\n",
       " 'chicken dong style',\n",
       " 'microwave tandoori chicken',\n",
       " 'methi malai cranberry chicken',\n",
       " 'southern fried chicken tenders',\n",
       " 'thai style chicken tikka',\n",
       " 'chicken gilafi kebab',\n",
       " 'cheese chicken kebabs',\n",
       " 'andhra crab meat masala',\n",
       " 'cajun spiced turkey wrapped with bacon',\n",
       " 'thai lamb balls',\n",
       " 'oyster lamb',\n",
       " 'chicken shami kebab',\n",
       " 'balti meat',\n",
       " 'coffee marinated mutton chops',\n",
       " 'sali boti (parsi meat dish)',\n",
       " 'braised lamb shanks',\n",
       " 'bengali lamb curry',\n",
       " 'malabari fish curry',\n",
       " 'japanese fish stew',\n",
       " 'malabar fish curry',\n",
       " 'surmai curry with lobster butter rice',\n",
       " 'seared salmon in tabasco butter',\n",
       " 'risotto lobster with parmesan egg pancake, confit tomatoes and coral tuille',\n",
       " 'fish skewers with coriander and red wine vinegar dressing',\n",
       " 'seafood rock filler',\n",
       " 'shrimp & cilantro ceviche',\n",
       " 'saewoo bokumbop (shrimp fried rice)',\n",
       " 'thai prawn curry & baked rice ',\n",
       " 'bihari fish curry',\n",
       " 'curry fish fingers',\n",
       " 'prawn and litchi salad',\n",
       " 'kerala fish curry',\n",
       " 'fish andlouse',\n",
       " 'prawn fried rice',\n",
       " 'damdama fish curry',\n",
       " 'fish with white sauce',\n",
       " 'chilli fish',\n",
       " 'fish ambultiyal',\n",
       " 'chettinad fish fry',\n",
       " 'fish moilee',\n",
       " 'batter fish',\n",
       " 'fish salan',\n",
       " 'spanish fish fry',\n",
       " 'prawn potato soup',\n",
       " 'red rice vermicelli kheer',\n",
       " 'green cucumber shots',\n",
       " 'thai pineapple rice',\n",
       " 'green asparagus risotto',\n",
       " 'veg fried rice',\n",
       " 'egg and garlic fried rice',\n",
       " 'curd rice',\n",
       " 'fried rice with soya chunks',\n",
       " 'corn pulao',\n",
       " 'zucchini methi pulao',\n",
       " 'lemon rice',\n",
       " 'kale channe ki biryani',\n",
       " 'chicken paella',\n",
       " 'thai fish curry',\n",
       " 'vegetable pulao',\n",
       " 'oats shallots pulao',\n",
       " 'shiitake fried rice with water chestnuts',\n",
       " 'lotus leaf wrapped fried rice',\n",
       " 'vegetable biryani',\n",
       " 'avial with red rice',\n",
       " 'rice in lamb stock',\n",
       " 'vegetable bruschetta',\n",
       " 'red wine braised mushroom flatbread',\n",
       " 'strawberry & pistachio breton tart',\n",
       " 'tricolour pizza',\n",
       " 'instant rava dosa',\n",
       " 'easy bread poha',\n",
       " 'bread chana basket',\n",
       " 'spaghetti with clams & crispy bread crumbs',\n",
       " 'kasha bread',\n",
       " 'egg paratha',\n",
       " 'egg and cheddar cheese sandwich',\n",
       " 'egg in a blanket',\n",
       " 'bread dahi vada',\n",
       " 'cheese and avocado parantha',\n",
       " 'bread with tomatoes and olives',\n",
       " 'lemon poppy seed cake',\n",
       " 'chocolate kaju katli',\n",
       " 'mix fruit laccha rabri tortilla crunch',\n",
       " 'pista chocolate & mandarin',\n",
       " 'banana and chia tea cake',\n",
       " 'chocolate and almond rum ball ',\n",
       " 'lemon sushi cake',\n",
       " 'chocolate doughnut',\n",
       " 'spiced almond banana jaggery cake',\n",
       " 'fennel scented sweet banana fritters',\n",
       " 'camel milk cake tart',\n",
       " 'quinoa coconut crumble custard',\n",
       " 'lamb barley pot',\n",
       " 'al hachi chicken',\n",
       " 'berry parfait hazelnut white chocolate sable',\n",
       " 'badam papite ke kebab with pineapple salsa',\n",
       " 'mixed vegetable soup',\n",
       " 'duo of chocolate and strawberry',\n",
       " 'mustard-parmesan whole roasted cauliflower',\n",
       " 'hassel back sweet potatoes',\n",
       " 'mother christmas cake',\n",
       " 'matcha tea macarons',\n",
       " 'amaranthus granola with lemon yogurt, berries and marigold',\n",
       " 'chocolate fudge cookies',\n",
       " 'veg summer rolls',\n",
       " 'eggless vanilla cake',\n",
       " 'sweet potato pie',\n",
       " 'wok tossed asparagus in mild garlic sauce',\n",
       " 'cinnamon oatmeal pancakes',\n",
       " 'chocolate chip cheesecake',\n",
       " 'chocolate lava cake',\n",
       " 'eggless coffee cupcakes',\n",
       " 'chicken in white wine',\n",
       " 'apple and walnut cake',\n",
       " 'gluten free almond cake',\n",
       " 'cinnamon star cookies',\n",
       " 'whole wheat cake',\n",
       " 'plum cake',\n",
       " 'double chocolate easter cookies',\n",
       " 'holi special malai kofta',\n",
       " 'homemade gulab jamun',\n",
       " 'lamb rogan josh',\n",
       " 'fish curry',\n",
       " 'rice kheer',\n",
       " 'assorted rice kheer sushi',\n",
       " 'jalebi with fennel yogurt pudding',\n",
       " 'broccoli souffle',\n",
       " 'christmas dry fruit cake',\n",
       " 'microwave chicken steak',\n",
       " 'cheese and ham roll',\n",
       " 'vegetable manchurian',\n",
       " 'jerk chicken',\n",
       " 'lemon poppy seed cake ',\n",
       " 'steam bunny chicken bao ',\n",
       " 'double chocolate easter cookies ',\n",
       " 'orange quinoa sevaiyan',\n",
       " 'spicy creamy kadai chicken',\n",
       " 'apple kheer',\n",
       " 'ragi oats ladoo (laddu)',\n",
       " 'lamb korma',\n",
       " 'ragi coconut ladoo (laddu)',\n",
       " 'quick chicken curry',\n",
       " 'chicken shaami kebab',\n",
       " 'chicken masala',\n",
       " 'holi special bhang pakode',\n",
       " 'kuttu atta pizza',\n",
       " 'arbi kofta with mint yogurt dip',\n",
       " 'puffed rice squares',\n",
       " 'red velvet banana pudding',\n",
       " 'baked wild berry cheesecake',\n",
       " 'spiced orange valencia cake',\n",
       " 'jalapeno cheese fingers',\n",
       " 'californian breakfast benedict',\n",
       " 'chocolate marquise',\n",
       " 'corn & jalapeno poppers',\n",
       " 'banana phirni tartlets with fresh strawberries',\n",
       " 'mexican pizza',\n",
       " 'apple and pear cake',\n",
       " 'microwave chocolate cake',\n",
       " 'white chocolate and lemon pastry',\n",
       " 'mixed beans salad',\n",
       " 'baked raw banana samosa',\n",
       " 'coconut mango oatmeal with cinnamon hint',\n",
       " 'fruit cube salad',\n",
       " 'veg hakka noodles',\n",
       " 'strawberry quinoa pancakes',\n",
       " 'spinach & banana pancakes',\n",
       " 'french onion grilled cheese',\n",
       " 'pasta in cheese sauce',\n",
       " 'deviled scotch egg',\n",
       " 'amritsari fish',\n",
       " 'butter chicken',\n",
       " 'chicken razala',\n",
       " 'chicken tikka',\n",
       " 'chicken tikka masala',\n",
       " 'mushroom matar',\n",
       " 'tandoori chicken',\n",
       " 'tandoori fish tikka',\n",
       " 'chettinadu chicken',\n",
       " 'chicken 65',\n",
       " 'kolim / jawla',\n",
       " 'black rice',\n",
       " 'brown rice',\n",
       " 'koldil chicken',\n",
       " 'red rice',\n",
       " 'rice',\n",
       " 'sunga pork',\n",
       " 'banana chips',\n",
       " 'bhurji- egg',\n",
       " 'flattened rice / poha',\n",
       " 'puffed rice',\n",
       " 'miso-butter roast chicken with acorn squash panzanella',\n",
       " 'honeydew salad with ginger dressing and peanuts',\n",
       " 'kimchi and miso noodle soup',\n",
       " 'spicy korean steak',\n",
       " 'french spiced bread',\n",
       " 'quinoa bowl and berries',\n",
       " 'shawarma-spiced braised leg of lamb',\n",
       " 'roast pork tenderloin with carrot romesco',\n",
       " 'ricotta gnocchi with asparagus, peas, and morels',\n",
       " 'crispy pakora',\n",
       " 'lamb tikka',\n",
       " 'grilled sweet prawn',\n",
       " 'pho tai rare beef',\n",
       " 'summer rolls',\n",
       " 'spice chicken baugette',\n",
       " 'bean curd rolls',\n",
       " 'pho chay soup',\n",
       " 'pho ga chicken',\n",
       " 'chicken sweet corn soup',\n",
       " 'thai spareribs',\n",
       " 'frenched green beans',\n",
       " 'lemony crab salad with baby greens',\n",
       " 'mushroom manchruian',\n",
       " 'biryani',\n",
       " 'tandoori chicken',\n",
       " 'shrimp olivier',\n",
       " 'potato casserole',\n",
       " 'thyme-roasted sweet potatoes',\n",
       " 'noodle curry',\n",
       " 'grill lemon grass pork baguette',\n",
       " 'sukuti chatpate',\n",
       " 'cheese naan',\n",
       " 'mushroom rice',\n",
       " 'bringle alo',\n",
       " 'mutar paneer',\n",
       " 'cucumber and radish salad',\n",
       " 'channa masala',\n",
       " 'saag alo ',\n",
       " 'alo tama bodi',\n",
       " 'tarka daal',\n",
       " 'jeera alu',\n",
       " 'nepali chicken curry',\n",
       " 'lamb shashlik',\n",
       " 'hyakula',\n",
       " 'alo achar',\n",
       " 'chicken momo',\n",
       " 'black-bean burgers',\n",
       " 'parmesan toasts',\n",
       " 'rice with soy-glazed bonito flakes and sesame seeds',\n",
       " 'shirazi salad',\n",
       " 'sesame noodles with chili oil and scallions',\n",
       " 'thai green curry ',\n",
       " 'ground pork menudo',\n",
       " 'bao bun ',\n",
       " 'garlic naan',\n",
       " 'egg curry with tomatoes and cilantro',\n",
       " 'kimchi bokumbab',\n",
       " 'korean fried chicken',\n",
       " 'prawn kastu curry',\n",
       " 'beef bibimbab',\n",
       " 'sweet and sour chicken fried rice',\n",
       " 'sea food soup',\n",
       " 'pad thai',\n",
       " 'spicy kimchi tofu stew',\n",
       " 'slow-roasted pork ',\n",
       " 'pico de gallo verde',\n",
       " 'pineapple-coconut rice',\n",
       " 'lamb and green squash dumplings',\n",
       " 'crispy tofu balls',\n",
       " 'grilled chicken with almond and garlic sauce',\n",
       " 'parmesan cauliflower and parsley salad',\n",
       " 'vietnamese chicken salad',\n",
       " 'eggplant and beef stir-fry',\n",
       " 'stir-fried lettuces with crispy shallots',\n",
       " 'chicken and dumplings',\n",
       " 'asian salmon bowl with lime drizzle',\n",
       " 'pasta with garlic-scape pesto',\n",
       " 'pico de gallo',\n",
       " 'basmati rice with summer vegetable salad',\n",
       " 'fresh corn tortillas',\n",
       " 'quinoa tabbouleh',\n",
       " 'grilled clams with herb butter',\n",
       " 'rajas poblanas',\n",
       " 'braised beef short ribs',\n",
       " 'fig and sesame tart with cardamom orange cream',\n",
       " 'rouille',\n",
       " 'kimchi toast',\n",
       " 'tacos de gobernador (shrimp, poblano, and cheese tacos)',\n",
       " 'melted broccoli pasta with capers and anchovies',\n",
       " 'lemon-ginger cake with pistachios',\n",
       " 'rosemary roasted vegetables']"
      ]
     },
     "execution_count": 49,
     "metadata": {},
     "output_type": "execute_result"
    }
   ],
   "source": [
    "text"
   ]
  },
  {
   "cell_type": "markdown",
   "metadata": {},
   "source": [
    "## Embedding the Name of the food into vector by using OpenAI Text Embedding"
   ]
  },
  {
   "cell_type": "code",
   "execution_count": 50,
   "metadata": {},
   "outputs": [],
   "source": [
    "#import openai\n",
    "#from embedding_processor import EmbeddingProcessor as ep\n",
    "\n",
    "# Initialize the EmbeddingProcessor\n",
    "#embedding_processor_instance = ep()\n",
    "\n",
    "# Generate embeddings\n",
    "#after_embedding = embedding_processor_instance.generate_embedding(texts=text)"
   ]
  },
  {
   "cell_type": "code",
   "execution_count": 51,
   "metadata": {},
   "outputs": [],
   "source": [
    "#save the embeddings to csv file\n",
    "#after_embedding = pd.DataFrame(after_embedding)\n",
    "#after_embedding.to_csv('embeddings.csv', index=False)"
   ]
  },
  {
   "cell_type": "code",
   "execution_count": 63,
   "metadata": {},
   "outputs": [],
   "source": [
    "from embedding_processor import EmbeddingProcessor as ep\n",
    "from calculate_cosine import CalculateCosine as cc\n",
    "after_embedding= pd.read_csv('embeddings.csv')\n",
    "after_embedding = after_embedding.to_numpy()\n",
    "\n"
   ]
  },
  {
   "cell_type": "code",
   "execution_count": 64,
   "metadata": {},
   "outputs": [
    {
     "name": "stdout",
     "output_type": "stream",
     "text": [
      "[np.float64(0.9999999999999984), np.float64(0.48430290097535106), np.float64(0.30368598178783235), np.float64(0.49404158661036807), np.float64(0.2479780091944277), np.float64(0.39780014851113055), np.float64(0.2059388920921464), np.float64(0.36798584258653233), np.float64(0.36170258372806907), np.float64(0.40862315328918747), np.float64(0.5290749720001056), np.float64(0.36292562788189014), np.float64(0.3450433664801804), np.float64(0.3159021182314748), np.float64(0.30653512401928523), np.float64(0.2938669583693672), np.float64(0.3062861567475792), np.float64(0.2829655421945428), np.float64(0.3049474447061377), np.float64(0.2795323681761569), np.float64(0.2796286344472757), np.float64(0.2745863202086511), np.float64(0.2707646954311661), np.float64(0.3275155177468389), np.float64(0.2852175105445363), np.float64(0.25682019001886675), np.float64(0.46290355254425136), np.float64(0.5294214297101666), np.float64(0.36996811928225126), np.float64(0.47622556596874976), np.float64(0.29135574927319763), np.float64(0.28061083638619005), np.float64(0.4016658274422575), np.float64(0.2909135508006499), np.float64(0.3445657572636458), np.float64(0.4177426364324329), np.float64(0.30504887050461993), np.float64(0.5323899921317076), np.float64(0.4714660770293731), np.float64(0.5137086837670152), np.float64(0.2680613265398044), np.float64(0.2381085237708389), np.float64(0.3140117807003452), np.float64(0.2798551156414396), np.float64(0.2918744202471827), np.float64(0.23299532379441498), np.float64(0.25004794361369986), np.float64(0.28134164355177227), np.float64(0.2767659503387886), np.float64(0.2715667093344098), np.float64(0.2054712137669696), np.float64(0.3201631335451916), np.float64(0.16408329130185342), np.float64(0.3382403506090032), np.float64(0.25229512367336715), np.float64(0.2524711146580318), np.float64(0.2989096404669563), np.float64(0.31541947935594106), np.float64(0.36351735190226786), np.float64(0.2980725130509532), np.float64(0.41523620549381063), np.float64(0.15011337899889668), np.float64(0.299260918060821), np.float64(0.20375887650224356), np.float64(0.214680686759291), np.float64(0.22972928101347354), np.float64(0.31741758611914256), np.float64(0.3034629203848524), np.float64(0.2178128032127862), np.float64(0.4349889337980301), np.float64(0.4255753434287368), np.float64(0.12188849001961145), np.float64(0.17169943329177892), np.float64(0.34201735676511624), np.float64(0.22504483556297733), np.float64(0.2074185814503976), np.float64(0.3671862462439251), np.float64(0.32752978165685476), np.float64(0.3901043801440374), np.float64(0.12665899418128737), np.float64(0.24611076506923152), np.float64(0.24620447615057134), np.float64(0.23114291143447005), np.float64(0.1545402742511546), np.float64(0.36525913173571195), np.float64(0.31359313173318065), np.float64(0.3556218720345263), np.float64(0.2745421498696462), np.float64(0.2537647126189044), np.float64(0.29111932145144537), np.float64(0.28290731196964225), np.float64(0.2548234031088519), np.float64(0.20820195210885734), np.float64(0.32497725246216175), np.float64(0.30132342293706815), np.float64(0.27545005786762955), np.float64(0.26440243524534623), np.float64(0.26649304816204017), np.float64(0.29637091600985777), np.float64(0.323954911581154), np.float64(0.36350261238180476), np.float64(0.3166167762284946), np.float64(0.24647432621286977), np.float64(0.2941219675882448), np.float64(0.2670859910375774), np.float64(0.3489673804273476), np.float64(0.3247507041356584), np.float64(0.33123015992997845), np.float64(0.3824838476754653), np.float64(0.3445756220989883), np.float64(0.3190893387953049), np.float64(0.32318489991764643), np.float64(0.2347446851018335), np.float64(0.21848799877434077), np.float64(0.23917812870597063), np.float64(0.30217613698080836), np.float64(0.3036742015303725), np.float64(0.3499711347461985), np.float64(0.23869915270598768), np.float64(0.27142367419819297), np.float64(0.3370656750468118), np.float64(0.2975738338744064), np.float64(0.2856428531438478), np.float64(0.2507472056955383), np.float64(0.33187625998621123), np.float64(0.2902165590423438), np.float64(0.2898377801148419), np.float64(0.2750970509920705), np.float64(0.30547098157926283), np.float64(0.27018672777190295), np.float64(0.22804376777046803), np.float64(0.22715361371821743), np.float64(0.343027994061115), np.float64(0.3166023260570705), np.float64(0.28200180534184177), np.float64(0.29374475566814173), np.float64(0.2623631253669784), np.float64(0.2878186536011085), np.float64(0.3438251670050007), np.float64(0.33483854519133005), np.float64(0.36065255689828674), np.float64(0.4124133761752053), np.float64(0.24043118815583905), np.float64(0.3767364825374565), np.float64(0.29438881172630327), np.float64(0.2963118604005322), np.float64(0.25759163234448207), np.float64(0.2736080460233136), np.float64(0.45405261951918124), np.float64(0.2787073611070406), np.float64(0.13627246615457325), np.float64(0.29723133996503126), np.float64(0.27595578552312977), np.float64(0.29957881780338536), np.float64(0.257663342375008), np.float64(0.17065006141239217), np.float64(0.2682724597766659), np.float64(0.25844507170174147), np.float64(0.2480744034286677), np.float64(0.35559603486217584), np.float64(0.2807709779489354), np.float64(0.32683855609243556), np.float64(0.3310936668829249), np.float64(0.4009820164438911), np.float64(0.32925750570551765), np.float64(0.43061862243999505), np.float64(0.37000003087284444), np.float64(0.29117914957146906), np.float64(0.34216348679287667), np.float64(0.32339040867564534), np.float64(0.3351134953998647), np.float64(0.5239739649854582), np.float64(0.3617697510661235), np.float64(0.32331918925743963), np.float64(0.3223866734323386), np.float64(0.3176016553471868), np.float64(0.3774908908443235), np.float64(0.37655849962952526), np.float64(0.314620139426574), np.float64(0.3089314014467332), np.float64(0.3693429652907045), np.float64(0.273652026029668), np.float64(0.2626138635729892), np.float64(0.5000688079551514), np.float64(0.35618876126933385), np.float64(0.34574640898411557), np.float64(0.2943144408602276), np.float64(0.26696627100717985), np.float64(0.2805473229841404), np.float64(0.3185012990735799), np.float64(0.41111336169359736), np.float64(0.3340412224627264), np.float64(0.3019491911269303), np.float64(0.2944324149875078), np.float64(0.21257996824564257), np.float64(0.32080702727569915), np.float64(0.3170762614253428), np.float64(0.35201985822120685), np.float64(0.35683060529508237), np.float64(0.20533369820964759), np.float64(0.3658446435438215), np.float64(0.24257077647346373), np.float64(0.2843639716930076), np.float64(0.21381295007126597), np.float64(0.3689226901454727), np.float64(0.19651028989464883), np.float64(0.2983327097633246), np.float64(0.34345152924523487), np.float64(0.25651634040510873), np.float64(0.3640158957295117), np.float64(0.2897669042216384), np.float64(0.2500373698799727), np.float64(0.2645857485973649), np.float64(0.35596872233946997), np.float64(0.4838566089710307), np.float64(0.24901719540838943), np.float64(0.41412167602045247), np.float64(0.3419639964159157), np.float64(0.19801810654866694), np.float64(0.2563439389043256), np.float64(0.38026877470277487), np.float64(0.22453034885580353), np.float64(0.4962212266294158), np.float64(0.2290739179680621), np.float64(0.35115450346994986), np.float64(0.38477621795981126), np.float64(0.278257825066045), np.float64(0.2588854287276289), np.float64(0.2344220457082921), np.float64(0.18789950954242826), np.float64(0.2842938240893051), np.float64(0.32817706597697277), np.float64(0.2932502533651333), np.float64(0.2519052300002577), np.float64(0.3429545738488252), np.float64(0.2923789254691101), np.float64(0.19505018491004558), np.float64(0.2717547342924028), np.float64(0.23596100018931482), np.float64(0.26314526376092373), np.float64(0.3111154347421863), np.float64(0.26884127758502185), np.float64(0.29802082885551096), np.float64(0.34684192213300685), np.float64(0.4125779591590774), np.float64(0.25557186706579205), np.float64(0.24366941543944753), np.float64(0.24508005302893518), np.float64(0.35402433909083325), np.float64(0.2758672017908104), np.float64(0.33205160711039866), np.float64(0.2060139277327437), np.float64(0.20421703549041875), np.float64(0.42685502588054114), np.float64(0.2915266365062173), np.float64(0.2613362809427105), np.float64(0.2756273724300831), np.float64(0.2885008461543568), np.float64(0.2591896218586705), np.float64(0.3527006505024064), np.float64(0.2913691252661672), np.float64(0.2937880256160139), np.float64(0.23476337927894755), np.float64(0.28676163020766476), np.float64(0.33426285187086097), np.float64(0.2867947120917647), np.float64(0.2681885192803293), np.float64(0.29486436774497726), np.float64(0.3163793778062922), np.float64(0.290330110128973), np.float64(0.30050973939483183), np.float64(0.27514592341408173), np.float64(0.3285349062624301), np.float64(0.33805700298921976), np.float64(0.28486868641907154), np.float64(0.32710576445710665), np.float64(0.2374191923260418), np.float64(0.272556016212024), np.float64(0.5271772016233683), np.float64(0.32649134310985434), np.float64(0.26539350891818014), np.float64(0.5321355111216874), np.float64(0.34780911618299), np.float64(0.4083109004275587), np.float64(0.3558826671722499), np.float64(0.3178415087313268), np.float64(0.32915745513145583), np.float64(0.22868060183634897), np.float64(0.20812788049313488), np.float64(0.2635548496537164), np.float64(0.31178788678192476), np.float64(0.29065359840580174), np.float64(0.26591247751148267), np.float64(0.3586491861430969), np.float64(0.2768652062131291), np.float64(0.25528270685764765), np.float64(0.27121683344274256), np.float64(0.24651192614958373), np.float64(0.14756682612293517), np.float64(0.27257632560767275), np.float64(0.32848423789773884), np.float64(0.23790341385526959), np.float64(0.26991211062116294), np.float64(0.21523569373285814), np.float64(0.28275229530022594), np.float64(0.294646764458462), np.float64(0.23434300089676333), np.float64(0.2842788612368604), np.float64(0.2393211911506745), np.float64(0.5223848516688306), np.float64(0.47706881318217537), np.float64(0.3370066206445927), np.float64(0.31363200275460607), np.float64(0.2954596927819009), np.float64(0.42927220384560383), np.float64(0.33393572911499003), np.float64(0.36592248992365456), np.float64(0.43160825480270687), np.float64(0.3289693523676013), np.float64(0.27574389459354326), np.float64(0.3535742064825845), np.float64(0.2191328306350399), np.float64(0.4557493950580377), np.float64(0.32726019820359414), np.float64(0.31560952215513566), np.float64(0.32498783442693546), np.float64(0.25905328503982034), np.float64(0.3495885683793343), np.float64(0.3132577334193751), np.float64(0.33709523614093084), np.float64(0.5258377021335758), np.float64(0.2881007744998), np.float64(0.2854735167603547), np.float64(0.2770588324780626), np.float64(0.35327072693284634), np.float64(0.39398735564398313), np.float64(0.37842056217309594), np.float64(0.39284422221495746), np.float64(0.3117765871075576), np.float64(0.2668355445320054), np.float64(0.28067782784109496), np.float64(0.3583303977018306), np.float64(0.18237183506272409), np.float64(0.2692498871527093), np.float64(0.5690648228545976), np.float64(0.3056772399449221), np.float64(0.31230962028419046), np.float64(0.14637387359739634), np.float64(0.29590541666542114), np.float64(0.3033576791343725), np.float64(0.29095496973555357), np.float64(0.3267369412324766), np.float64(0.18381630612634278), np.float64(0.19397096954520124), np.float64(0.2664633743790936), np.float64(0.3486692531681454), np.float64(0.35338785035054937), np.float64(0.3562501810435581), np.float64(0.529491584335613), np.float64(0.3748938199554921), np.float64(0.33984636052693384), np.float64(0.2609199187824877), np.float64(0.23987639688008336), np.float64(0.32601032676241537), np.float64(0.3316012012547417), np.float64(0.30076744198159705), np.float64(0.2568274142923726), np.float64(0.28642425946304073), np.float64(0.2652835932689159), np.float64(0.3232251037817464), np.float64(0.3754528282349706), np.float64(0.3131412770253088), np.float64(0.287697284497031), np.float64(0.30481996173287634), np.float64(0.38483636428188683), np.float64(0.30825477211950947), np.float64(0.5034364950673188), np.float64(0.30548475075878445), np.float64(0.3413143958624206), np.float64(0.538634506527454), np.float64(0.5066532941059723), np.float64(0.36189701369759225), np.float64(0.44893976986998785), np.float64(0.3040503592230617), np.float64(0.4109848291869478), np.float64(0.45185736405492183), np.float64(0.3749847673089152), np.float64(0.6052557783203905), np.float64(0.3485146913300233), np.float64(0.507964353428681), np.float64(0.3476631841195492), np.float64(0.2402051746444948), np.float64(0.28384792164234957), np.float64(0.35929664308539067), np.float64(0.20422204899313526), np.float64(0.3130397733873679), np.float64(0.24361171940401083), np.float64(0.3350992533133763), np.float64(0.36107978136687047), np.float64(0.44852761695912224)]\n"
     ]
    }
   ],
   "source": [
    "# Calculate cosine similarity of all embeddings with the first embedding\n",
    "compare = [cc.calculate_cosine_similarity(after_embedding[0], embedding) for embedding in after_embedding]\n",
    "\n",
    "# Print the comparison results\n",
    "print(compare)"
   ]
  },
  {
   "cell_type": "code",
   "execution_count": 65,
   "metadata": {},
   "outputs": [
    {
     "name": "stdout",
     "output_type": "stream",
     "text": [
      "Top 10 Food Items based on similarity scores:\n",
      "1. summer squash salad - Score: 1.0000\n",
      "2. Basmati Rice with Summer Vegetable Salad - Score: 0.6053\n",
      "3. Cucumber and Radish Salad - Score: 0.5691\n",
      "4. Parmesan Cauliflower and Parsley Salad - Score: 0.5386\n",
      "5. mixed salad with lotus root - Score: 0.5324\n",
      "6. fruit cube salad - Score: 0.5321\n",
      "7. Shirazi Salad - Score: 0.5295\n",
      "8. vegetable som tam salad - Score: 0.5294\n",
      "9. coconut lime quinoa salad - Score: 0.5291\n",
      "10. mixed beans salad - Score: 0.5272\n"
     ]
    }
   ],
   "source": [
    "# Get the indices of the top 10 highest similarity scores\n",
    "top_10_indices = np.argsort(compare)[-10:][::-1]\n",
    "\n",
    "# Retrieve the corresponding food names and their scores\n",
    "top_10_foods = data.iloc[top_10_indices][['Name']].copy()\n",
    "top_10_foods['Score'] = [compare[i] for i in top_10_indices]\n",
    "\n",
    "# Print the top 10 food names with their scores\n",
    "print(\"Top 10 Food Items based on similarity scores:\")\n",
    "for i, (food, score) in enumerate(zip(top_10_foods['Name'], top_10_foods['Score']), 1):\n",
    "    print(f\"{i}. {food} - Score: {score:.4f}\")"
   ]
  },
  {
   "cell_type": "markdown",
   "metadata": {},
   "source": [
    "# Using gemini text embedding"
   ]
  },
  {
   "cell_type": "code",
   "execution_count": null,
   "metadata": {},
   "outputs": [],
   "source": [
    "from gemini_embedding import EmbeddingProcessor as gep\n",
    "\n",
    "# Initialize the GeminiEmbedding class\n",
    "#gemini_embedding_processor = gep()\n",
    "\n",
    "# Generate embeddings\n",
    "#after_embedding_gemini = gemini_embedding_processor.generate_embedding(texts=text)"
   ]
  },
  {
   "cell_type": "code",
   "execution_count": 72,
   "metadata": {},
   "outputs": [
    {
     "data": {
      "text/plain": [
       "array([[-0.02381785, -0.02229001, -0.00670815, ...,  0.01901608,\n",
       "        -0.0067252 ,  0.01510101],\n",
       "       [-0.011084  , -0.01302267, -0.00546665, ...,  0.05009037,\n",
       "         0.00506932,  0.02192139],\n",
       "       [-0.02464468,  0.01450586, -0.00596829, ...,  0.00965117,\n",
       "         0.01930233, -0.00119821],\n",
       "       ...,\n",
       "       [-0.01359238, -0.02275102, -0.01848934, ...,  0.01309606,\n",
       "         0.00924467,  0.00757044],\n",
       "       [-0.02141873, -0.0039209 , -0.02044644, ...,  0.00976525,\n",
       "         0.00573867,  0.01779728],\n",
       "       [-0.02362238,  0.00698437, -0.0126341 , ...,  0.02638846,\n",
       "         0.00205036,  0.02655443]])"
      ]
     },
     "execution_count": 72,
     "metadata": {},
     "output_type": "execute_result"
    }
   ],
   "source": [
    "after_embedding"
   ]
  },
  {
   "cell_type": "code",
   "execution_count": 74,
   "metadata": {},
   "outputs": [],
   "source": [
    "# Convert the list to a DataFrame\n",
    "#after_embedding_gemini_df = pd.DataFrame(after_embedding_gemini)\n",
    "\n",
    "# Save the DataFrame to a CSV file\n",
    "#after_embedding_gemini_df.to_csv('after_embedding_gemini.csv', index=False)"
   ]
  },
  {
   "cell_type": "code",
   "execution_count": 75,
   "metadata": {},
   "outputs": [],
   "source": [
    "after_embedding_gemini_df = pd.read_csv('after_embedding_gemini.csv')"
   ]
  },
  {
   "cell_type": "code",
   "execution_count": 76,
   "metadata": {},
   "outputs": [
    {
     "name": "stdout",
     "output_type": "stream",
     "text": [
      "[np.float64(1.0000000000000002), np.float64(0.573388824494741), np.float64(0.43053034904643944), np.float64(0.5651259909673004), np.float64(0.35774578310502936), np.float64(0.4782290662582736), np.float64(0.32804395874486236), np.float64(0.41337912909691304), np.float64(0.38874533285108526), np.float64(0.43160967938220257), np.float64(0.5890521973062721), np.float64(0.4110459994242185), np.float64(0.46816255748556246), np.float64(0.47084304036022234), np.float64(0.3782458694559102), np.float64(0.4058495126309979), np.float64(0.39418115549659827), np.float64(0.36821090884251534), np.float64(0.36874451289845916), np.float64(0.3541453124963808), np.float64(0.27957865924180253), np.float64(0.37885982726099876), np.float64(0.3748559167169298), np.float64(0.40120065408588007), np.float64(0.38492598874043), np.float64(0.30721155179066095), np.float64(0.554915062991249), np.float64(0.6036209512992484), np.float64(0.44957225477304497), np.float64(0.5165994728426385), np.float64(0.37280936190668557), np.float64(0.38400715695670395), np.float64(0.4623683913857264), np.float64(0.44978132781517716), np.float64(0.49637237328559775), np.float64(0.5317779761178973), np.float64(0.35064572900171187), np.float64(0.565472185898928), np.float64(0.5288136017700665), np.float64(0.5869246275841954), np.float64(0.3745910476876408), np.float64(0.37429044326923916), np.float64(0.38135784147709106), np.float64(0.3553952662102617), np.float64(0.41475053856737454), np.float64(0.31809281014388646), np.float64(0.3482868733529181), np.float64(0.34874899606728177), np.float64(0.3851229729906935), np.float64(0.38616199711079063), np.float64(0.3184711870374979), np.float64(0.4271048311789083), np.float64(0.2806774798363817), np.float64(0.3938803313150416), np.float64(0.35025974049625164), np.float64(0.37651578558709964), np.float64(0.38612536328652447), np.float64(0.39848963379495783), np.float64(0.4037524212199068), np.float64(0.38901018744496685), np.float64(0.4482964072806874), np.float64(0.26301287898518594), np.float64(0.39391999646322196), np.float64(0.3521536812318193), np.float64(0.34845514492577556), np.float64(0.3367898833683056), np.float64(0.37703392353552884), np.float64(0.3454802212166099), np.float64(0.39476915718984135), np.float64(0.5303591406375456), np.float64(0.4312516952801525), np.float64(0.23454453509082124), np.float64(0.26881106832129403), np.float64(0.46524727460584486), np.float64(0.30016915449124915), np.float64(0.2987874900277051), np.float64(0.3996632799974209), np.float64(0.45715398515110073), np.float64(0.45382327909112513), np.float64(0.2730532123029829), np.float64(0.357156542180025), np.float64(0.3210532657235891), np.float64(0.35740503981337873), np.float64(0.2628251239419966), np.float64(0.42816457790522605), np.float64(0.4176777019058949), np.float64(0.4809201930234864), np.float64(0.40193307589291566), np.float64(0.32033902369902795), np.float64(0.378866887457531), np.float64(0.385780076124446), np.float64(0.35375517706043674), np.float64(0.3817174975970972), np.float64(0.43524578577606043), np.float64(0.41618335798822126), np.float64(0.4149107462857192), np.float64(0.3548077907871896), np.float64(0.3608041898204388), np.float64(0.40975501749289256), np.float64(0.4188264711827019), np.float64(0.3793015384598263), np.float64(0.3742188692176405), np.float64(0.33881739478674344), np.float64(0.39826270609556985), np.float64(0.36974174975900076), np.float64(0.3927295916876545), np.float64(0.36980612613041414), np.float64(0.4550072750132278), np.float64(0.4249726669268179), np.float64(0.4286390388781983), np.float64(0.4026639548074045), np.float64(0.40166581890381453), np.float64(0.3188785821238328), np.float64(0.31360872186235283), np.float64(0.32711214604122923), np.float64(0.4067791377008718), np.float64(0.4053077922545968), np.float64(0.4834937008370055), np.float64(0.3102388781454945), np.float64(0.33557610713210895), np.float64(0.41311445245411843), np.float64(0.40967917963946127), np.float64(0.3905817310224799), np.float64(0.3640455565939838), np.float64(0.36139935824128), np.float64(0.3381567064771872), np.float64(0.4188731616386343), np.float64(0.3763987049181371), np.float64(0.3299460434774), np.float64(0.396236154949308), np.float64(0.3458637319159793), np.float64(0.3321852462091273), np.float64(0.34277792037407695), np.float64(0.40704299990762866), np.float64(0.38685343627462615), np.float64(0.3841636404033018), np.float64(0.3652606529863596), np.float64(0.384854397613421), np.float64(0.40023463352742444), np.float64(0.38911518682840096), np.float64(0.42406139272263366), np.float64(0.47250046124875184), np.float64(0.36925921700464626), np.float64(0.4507107085106961), np.float64(0.37943575189673645), np.float64(0.41577293205573207), np.float64(0.3970446655117769), np.float64(0.3496880854903565), np.float64(0.574631302446528), np.float64(0.3977151203653293), np.float64(0.31764487030423477), np.float64(0.38913951705301586), np.float64(0.3704213250635886), np.float64(0.38259420481709355), np.float64(0.3935655930086407), np.float64(0.2776008166225224), np.float64(0.35524801456262467), np.float64(0.3320596300801489), np.float64(0.33066455561304514), np.float64(0.390255017611856), np.float64(0.3853019027480283), np.float64(0.43592968081294187), np.float64(0.35459042529649126), np.float64(0.47567497757891364), np.float64(0.41019756228974336), np.float64(0.4469311755280502), np.float64(0.42818034513286607), np.float64(0.38439450121202), np.float64(0.4391034898813345), np.float64(0.3947786998407672), np.float64(0.43326949627517375), np.float64(0.5511314698725984), np.float64(0.3993329945021536), np.float64(0.389804594517437), np.float64(0.4048628672552808), np.float64(0.40058054915061386), np.float64(0.4842532755264675), np.float64(0.44702655339055475), np.float64(0.4071038529018307), np.float64(0.3803293461054811), np.float64(0.4560721715993303), np.float64(0.35641452300509896), np.float64(0.3504415938558142), np.float64(0.5376692863630914), np.float64(0.3950110057761209), np.float64(0.43280383822116025), np.float64(0.3502646438573409), np.float64(0.3316564081457375), np.float64(0.3230505309757458), np.float64(0.3671780885478812), np.float64(0.42966754848395344), np.float64(0.4239391989965973), np.float64(0.37593174734204493), np.float64(0.37525192740840246), np.float64(0.32961426588634274), np.float64(0.37908312250342463), np.float64(0.403142675055764), np.float64(0.4505500253544731), np.float64(0.37434395274215676), np.float64(0.34161869032746883), np.float64(0.37265265477209303), np.float64(0.3352403250611216), np.float64(0.41234456829602617), np.float64(0.35116871831754065), np.float64(0.42460940941429887), np.float64(0.3123143241438028), np.float64(0.4363764466878016), np.float64(0.47150847274180757), np.float64(0.34406893330922683), np.float64(0.44021091312011335), np.float64(0.3431674839921787), np.float64(0.33180608486396257), np.float64(0.38256794814391115), np.float64(0.42993220866911686), np.float64(0.5071432177056091), np.float64(0.289621925955917), np.float64(0.5054537112272817), np.float64(0.4391122906487633), np.float64(0.3461515922670971), np.float64(0.34817794553490344), np.float64(0.46226192703573254), np.float64(0.3369515461014059), np.float64(0.5897700035723362), np.float64(0.3763732780851118), np.float64(0.46007259501117587), np.float64(0.4162816964661343), np.float64(0.3717879907777936), np.float64(0.398457751055101), np.float64(0.3619062210879506), np.float64(0.3595029639939731), np.float64(0.4071700813381592), np.float64(0.42800837052432344), np.float64(0.4060494760047586), np.float64(0.3402708298408707), np.float64(0.42268092092046355), np.float64(0.4176045023260804), np.float64(0.2919984276235872), np.float64(0.3182668464522829), np.float64(0.35949073043261676), np.float64(0.3839807979120954), np.float64(0.3902710981743967), np.float64(0.35461765755744135), np.float64(0.3721002015197213), np.float64(0.40810136150077647), np.float64(0.47286115676179047), np.float64(0.3554596762363035), np.float64(0.36212410135540785), np.float64(0.3623376299119612), np.float64(0.4586996147881027), np.float64(0.3846528847978984), np.float64(0.37434395274215676), np.float64(0.31809281014388646), np.float64(0.2919984276235872), np.float64(0.4128288411639215), np.float64(0.3472354535475978), np.float64(0.3661750080763228), np.float64(0.35738436336955315), np.float64(0.34159127632525266), np.float64(0.35930982562651687), np.float64(0.3792217560652685), np.float64(0.3762519827283448), np.float64(0.38762309565082276), np.float64(0.2730630664181771), np.float64(0.37458351560900777), np.float64(0.40976404485228285), np.float64(0.3819628336787842), np.float64(0.40093247628642775), np.float64(0.3877793411863726), np.float64(0.4216558770002655), np.float64(0.34980078035344614), np.float64(0.3827597413434109), np.float64(0.28856097888537857), np.float64(0.38186724820230517), np.float64(0.40420248238188544), np.float64(0.3558872272382489), np.float64(0.39756966881234135), np.float64(0.32032752525895974), np.float64(0.3462172113006954), np.float64(0.5947157034298625), np.float64(0.4508975638062904), np.float64(0.3676416309955957), np.float64(0.6134539364856547), np.float64(0.4069408035107301), np.float64(0.3951193782141303), np.float64(0.4374078555444549), np.float64(0.40683575867655164), np.float64(0.3891232687753632), np.float64(0.4337660860408366), np.float64(0.3292255897903939), np.float64(0.37912923852845404), np.float64(0.4080909331150947), np.float64(0.37201407086671157), np.float64(0.3796479526347419), np.float64(0.42378976908871197), np.float64(0.3463623496469729), np.float64(0.36510714620998364), np.float64(0.3521829179375824), np.float64(0.3936330710798464), np.float64(0.22461227376920115), np.float64(0.3768479581566945), np.float64(0.4079853317520219), np.float64(0.3317942014108348), np.float64(0.36496805212481614), np.float64(0.35372688735283253), np.float64(0.4089900465375534), np.float64(0.39847737168881064), np.float64(0.39599553625707273), np.float64(0.35260547807922465), np.float64(0.34708333746471), np.float64(0.5998708827533575), np.float64(0.5774421259476007), np.float64(0.4416088233009962), np.float64(0.37359850740945655), np.float64(0.40595987674241), np.float64(0.4446030918410869), np.float64(0.37848966662347056), np.float64(0.4371828916590793), np.float64(0.4594256201719944), np.float64(0.3372359451827126), np.float64(0.359162841090664), np.float64(0.4661530903754975), np.float64(0.2638008983774755), np.float64(0.5733160770497652), np.float64(0.4960372146064653), np.float64(0.4059165628095279), np.float64(0.3759729311366702), np.float64(0.37301232317106436), np.float64(0.47965862213951277), np.float64(0.36097171923780175), np.float64(0.42411028406907963), np.float64(0.5410742220783824), np.float64(0.3238326487375866), np.float64(0.34462602645174056), np.float64(0.3463623496469729), np.float64(0.4056318443318433), np.float64(0.4385664653763263), np.float64(0.4689807799435622), np.float64(0.3961676310002798), np.float64(0.38751461904818807), np.float64(0.2925322543761087), np.float64(0.3369282923861321), np.float64(0.41602772876752936), np.float64(0.22518868918619786), np.float64(0.3733697636200573), np.float64(0.6766119242148536), np.float64(0.3904786316459999), np.float64(0.4350116166944161), np.float64(0.2155833324413944), np.float64(0.3771547999348478), np.float64(0.34313869974419636), np.float64(0.41426639653370173), np.float64(0.41547351631431545), np.float64(0.28281605975517593), np.float64(0.38107171875825085), np.float64(0.31419551942656915), np.float64(0.39576319963756934), np.float64(0.3911918379644938), np.float64(0.42337177856131164), np.float64(0.5779250848269406), np.float64(0.46735295571259466), np.float64(0.4320285874085105), np.float64(0.3432303101372067), np.float64(0.32294566314421536), np.float64(0.3520197282197572), np.float64(0.4192783616757124), np.float64(0.40392087766794904), np.float64(0.3468981169336152), np.float64(0.41929393192701564), np.float64(0.3500677874809669), np.float64(0.42433634097568973), np.float64(0.3878347542781755), np.float64(0.377312585235627), np.float64(0.42848460869121746), np.float64(0.3955874302162634), np.float64(0.4489589409793746), np.float64(0.43669115674123155), np.float64(0.5699634771766116), np.float64(0.38400021960022135), np.float64(0.4386836017493284), np.float64(0.6212220901426261), np.float64(0.5718407228175126), np.float64(0.4512116100022694), np.float64(0.4891631862707921), np.float64(0.3639321780737522), np.float64(0.5015131653648582), np.float64(0.4973096687799438), np.float64(0.45026509631123174), np.float64(0.6967210571827591), np.float64(0.38302735604258065), np.float64(0.5202318075609221), np.float64(0.4153078728751987), np.float64(0.2862076378660669), np.float64(0.38100072605162055), np.float64(0.4046261194561964), np.float64(0.40403695740531237), np.float64(0.3888511359723659), np.float64(0.3965641736901753), np.float64(0.4548100802474944), np.float64(0.46883403983766203), np.float64(0.4953005460124319)]\n"
     ]
    }
   ],
   "source": [
    "# Calculate cosine similarity of all embeddings with the first embedding\n",
    "compare = [cc.calculate_cosine_similarity(after_embedding_gemini[0], embedding) for embedding in after_embedding_gemini]\n",
    "\n",
    "# Print the comparison results\n",
    "print(compare)"
   ]
  },
  {
   "cell_type": "code",
   "execution_count": 77,
   "metadata": {},
   "outputs": [
    {
     "name": "stdout",
     "output_type": "stream",
     "text": [
      "Top 10 Food Items based on similarity scores:\n",
      "1. summer squash salad - Score: 1.0000\n",
      "2. Basmati Rice with Summer Vegetable Salad - Score: 0.6967\n",
      "3. Cucumber and Radish Salad - Score: 0.6766\n",
      "4. Parmesan Cauliflower and Parsley Salad - Score: 0.6212\n",
      "5. fruit cube salad - Score: 0.6135\n",
      "6. vegetable som tam salad - Score: 0.6036\n",
      "7. Miso-Butter Roast Chicken With Acorn Squash Panzanella - Score: 0.5999\n",
      "8. mixed beans salad - Score: 0.5947\n",
      "9. veg summer rolls - Score: 0.5898\n",
      "10. coconut lime quinoa salad - Score: 0.5891\n"
     ]
    }
   ],
   "source": [
    "# Get the indices of the top 10 highest similarity scores\n",
    "top_10_indices = np.argsort(compare)[-10:][::-1]\n",
    "\n",
    "# Retrieve the corresponding food names and their scores\n",
    "top_10_foods = data.iloc[top_10_indices][['Name']].copy()\n",
    "top_10_foods['Score'] = [compare[i] for i in top_10_indices]\n",
    "\n",
    "# Print the top 10 food names with their scores\n",
    "print(\"Top 10 Food Items based on similarity scores:\")\n",
    "for i, (food, score) in enumerate(zip(top_10_foods['Name'], top_10_foods['Score']), 1):\n",
    "    print(f\"{i}. {food} - Score: {score:.4f}\")"
   ]
  },
  {
   "cell_type": "code",
   "execution_count": null,
   "metadata": {},
   "outputs": [],
   "source": []
  }
 ],
 "metadata": {
  "kernelspec": {
   "display_name": "matching_env",
   "language": "python",
   "name": "python3"
  },
  "language_info": {
   "codemirror_mode": {
    "name": "ipython",
    "version": 3
   },
   "file_extension": ".py",
   "mimetype": "text/x-python",
   "name": "python",
   "nbconvert_exporter": "python",
   "pygments_lexer": "ipython3",
   "version": "3.12.7"
  }
 },
 "nbformat": 4,
 "nbformat_minor": 2
}
